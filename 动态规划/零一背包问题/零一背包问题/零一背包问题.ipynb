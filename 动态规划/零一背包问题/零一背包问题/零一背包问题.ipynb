{
 "cells": [
  {
   "cell_type": "markdown",
   "metadata": {},
   "source": [
    "# 零一背包问题\n",
    "有n种重量和价值分别为Wi和Vi的物品。从这些物品中挑选出总重量不超过w的物品，每种物品都只能挑选一件，求所有挑选方案中价值总和的最大值。"
   ]
  },
  {
   "cell_type": "code",
   "execution_count": 1,
   "metadata": {},
   "outputs": [],
   "source": [
    "from numpy import *"
   ]
  },
  {
   "cell_type": "code",
   "execution_count": 2,
   "metadata": {},
   "outputs": [],
   "source": [
    "#n种物品\n",
    "n=10\n",
    "#挑选的质量不超过w\n",
    "w=10\n",
    "#存放商品的质量\n",
    "W=[random.randint(1,10) for i in range(n)]\n",
    "#存放商品的价值\n",
    "V=[random.randint(1,20)  for i in range(n)]\n",
    "#dp[n][w]从前n种物品中挑选总质量不超过w的物品时所用的挑选方案价值总和的最大值。\n",
    "dp=[([0]*(w+1)) for i in range(n+1)]"
   ]
  },
  {
   "cell_type": "code",
   "execution_count": 3,
   "metadata": {},
   "outputs": [
    {
     "data": {
      "text/plain": [
       "[3, 3, 1, 8, 3, 1, 2, 6, 6, 2]"
      ]
     },
     "execution_count": 3,
     "metadata": {},
     "output_type": "execute_result"
    }
   ],
   "source": [
    "W"
   ]
  },
  {
   "cell_type": "code",
   "execution_count": 4,
   "metadata": {},
   "outputs": [
    {
     "data": {
      "text/plain": [
       "[8, 14, 6, 7, 12, 5, 8, 8, 7, 1]"
      ]
     },
     "execution_count": 4,
     "metadata": {},
     "output_type": "execute_result"
    }
   ],
   "source": [
    "V"
   ]
  },
  {
   "cell_type": "code",
   "execution_count": 5,
   "metadata": {},
   "outputs": [],
   "source": [
    "def solve():\n",
    "    for i in range(n):\n",
    "        for j in range(w+1):\n",
    "            if j<W[i]:\n",
    "                dp[i+1][j]=dp[i][j]\n",
    "            else:\n",
    "                dp[i+1][j]=max(dp[i][j],dp[i][j-W[i]]+V[i])"
   ]
  },
  {
   "cell_type": "code",
   "execution_count": 6,
   "metadata": {},
   "outputs": [],
   "source": [
    "solve()"
   ]
  },
  {
   "cell_type": "code",
   "execution_count": 7,
   "metadata": {},
   "outputs": [
    {
     "name": "stdout",
     "output_type": "stream",
     "text": [
      "[0, 0, 0, 0, 0, 0, 0, 0, 0, 0, 0]\n",
      "[0, 0, 0, 8, 8, 8, 8, 8, 8, 8, 8]\n",
      "[0, 0, 0, 14, 14, 14, 22, 22, 22, 22, 22]\n",
      "[0, 6, 6, 14, 20, 20, 22, 28, 28, 28, 28]\n",
      "[0, 6, 6, 14, 20, 20, 22, 28, 28, 28, 28]\n",
      "[0, 6, 6, 14, 20, 20, 26, 32, 32, 34, 40]\n",
      "[0, 6, 11, 14, 20, 25, 26, 32, 37, 37, 40]\n",
      "[0, 6, 11, 14, 20, 25, 28, 33, 37, 40, 45]\n",
      "[0, 6, 11, 14, 20, 25, 28, 33, 37, 40, 45]\n",
      "[0, 6, 11, 14, 20, 25, 28, 33, 37, 40, 45]\n",
      "[0, 6, 11, 14, 20, 25, 28, 33, 37, 40, 45]\n"
     ]
    }
   ],
   "source": [
    "for i in dp:\n",
    "    print(i)"
   ]
  },
  {
   "cell_type": "code",
   "execution_count": 8,
   "metadata": {},
   "outputs": [
    {
     "data": {
      "text/plain": [
       "45"
      ]
     },
     "execution_count": 8,
     "metadata": {},
     "output_type": "execute_result"
    }
   ],
   "source": [
    "dp[n][w]"
   ]
  },
  {
   "cell_type": "code",
   "execution_count": null,
   "metadata": {},
   "outputs": [],
   "source": []
  }
 ],
 "metadata": {
  "kernelspec": {
   "display_name": "Python 3",
   "language": "python",
   "name": "python3"
  },
  "language_info": {
   "codemirror_mode": {
    "name": "ipython",
    "version": 3
   },
   "file_extension": ".py",
   "mimetype": "text/x-python",
   "name": "python",
   "nbconvert_exporter": "python",
   "pygments_lexer": "ipython3",
   "version": "3.6.4"
  }
 },
 "nbformat": 4,
 "nbformat_minor": 2
}
