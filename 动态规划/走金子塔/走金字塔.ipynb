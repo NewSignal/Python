{
 "cells": [
  {
   "cell_type": "markdown",
   "metadata": {},
   "source": [
    "# POJ1163\n",
    "给定一个由n行数字组成的数字三角型。设计一个算法，计算从三角形的顶至底的一条路径，使该路径经过的数字总和最大。路径上的每一步都只能往左下或右下走，给出这个最大和。"
   ]
  },
  {
   "cell_type": "code",
   "execution_count": 1,
   "metadata": {},
   "outputs": [],
   "source": [
    "from numpy import *"
   ]
  },
  {
   "cell_type": "code",
   "execution_count": 2,
   "metadata": {},
   "outputs": [
    {
     "data": {
      "text/plain": [
       "[[0, 0, 0, 0, 0, 0, 0, 0, 0, 0, 0],\n",
       " [0, 2, 0, 0, 0, 0, 0, 0, 0, 0, 0],\n",
       " [0, 4, 8, 0, 0, 0, 0, 0, 0, 0, 0],\n",
       " [0, 1, 3, 5, 0, 0, 0, 0, 0, 0, 0],\n",
       " [0, 3, 3, 2, 5, 0, 0, 0, 0, 0, 0],\n",
       " [0, 8, 2, 8, 2, 2, 0, 0, 0, 0, 0],\n",
       " [0, 2, 5, 2, 7, 2, 3, 0, 0, 0, 0],\n",
       " [0, 6, 2, 4, 1, 8, 5, 4, 0, 0, 0],\n",
       " [0, 3, 2, 4, 2, 1, 9, 7, 4, 0, 0],\n",
       " [0, 5, 6, 7, 6, 9, 7, 7, 1, 5, 0],\n",
       " [0, 6, 6, 7, 2, 6, 1, 2, 5, 8, 7]]"
      ]
     },
     "execution_count": 2,
     "metadata": {},
     "output_type": "execute_result"
    }
   ],
   "source": [
    "N=10\n",
    "Limit=N+1\n",
    "#金字塔\n",
    "#创建10*10的list并填充0\n",
    "triangle=[([0]*Limit) for i in range(Limit)]\n",
    "dp=[([0]*Limit) for i in range(Limit)]\n",
    "for i in range(1,N+1):\n",
    "    for j in range(1,i+1):\n",
    "        triangle[i][j]=random.randint(1,10)\n",
    "triangle"
   ]
  },
  {
   "cell_type": "code",
   "execution_count": 3,
   "metadata": {},
   "outputs": [
    {
     "data": {
      "text/plain": [
       "[[0, 0, 0, 0, 0, 0, 0, 0, 0, 0, 0],\n",
       " [0, 2, 0, 0, 0, 0, 0, 0, 0, 0, 0],\n",
       " [0, 0, 0, 0, 0, 0, 0, 0, 0, 0, 0],\n",
       " [0, 0, 0, 0, 0, 0, 0, 0, 0, 0, 0],\n",
       " [0, 0, 0, 0, 0, 0, 0, 0, 0, 0, 0],\n",
       " [0, 0, 0, 0, 0, 0, 0, 0, 0, 0, 0],\n",
       " [0, 0, 0, 0, 0, 0, 0, 0, 0, 0, 0],\n",
       " [0, 0, 0, 0, 0, 0, 0, 0, 0, 0, 0],\n",
       " [0, 0, 0, 0, 0, 0, 0, 0, 0, 0, 0],\n",
       " [0, 0, 0, 0, 0, 0, 0, 0, 0, 0, 0],\n",
       " [0, 0, 0, 0, 0, 0, 0, 0, 0, 0, 0]]"
      ]
     },
     "execution_count": 3,
     "metadata": {},
     "output_type": "execute_result"
    }
   ],
   "source": [
    "dp[1][1]=triangle[1][1]\n",
    "dp"
   ]
  },
  {
   "cell_type": "code",
   "execution_count": 4,
   "metadata": {},
   "outputs": [
    {
     "name": "stdout",
     "output_type": "stream",
     "text": [
      "2 1\n",
      "2 2\n",
      "3 1\n",
      "3 2\n",
      "3 3\n",
      "4 1\n",
      "4 2\n",
      "4 3\n",
      "4 4\n",
      "5 1\n",
      "5 2\n",
      "5 3\n",
      "5 4\n",
      "5 5\n",
      "6 1\n",
      "6 2\n",
      "6 3\n",
      "6 4\n",
      "6 5\n",
      "6 6\n",
      "7 1\n",
      "7 2\n",
      "7 3\n",
      "7 4\n",
      "7 5\n",
      "7 6\n",
      "7 7\n",
      "8 1\n",
      "8 2\n",
      "8 3\n",
      "8 4\n",
      "8 5\n",
      "8 6\n",
      "8 7\n",
      "8 8\n",
      "9 1\n",
      "9 2\n",
      "9 3\n",
      "9 4\n",
      "9 5\n",
      "9 6\n",
      "9 7\n",
      "9 8\n",
      "9 9\n",
      "10 1\n",
      "10 2\n",
      "10 3\n",
      "10 4\n",
      "10 5\n",
      "10 6\n",
      "10 7\n",
      "10 8\n",
      "10 9\n",
      "10 10\n"
     ]
    }
   ],
   "source": [
    "for i in range(2,N+1):\n",
    "    for j in range(1,i+1):\n",
    "        #如果不是最左边的一列，找自身的dp和（右上角+自身的triangle）的最大值\n",
    "        if j!=1:\n",
    "            dp[i][j]=max(dp[i][j],dp[i-1][j-1]+triangle[i][j])\n",
    "        #如果不是最右边的一列，找自身的dp和（同列的上一行的+自身的triangle）的最大值\n",
    "        if j!=i:\n",
    "            dp[i][j]=max(dp[i][j],dp[i-1][j]+triangle[i][j])"
   ]
  },
  {
   "cell_type": "code",
   "execution_count": 5,
   "metadata": {},
   "outputs": [
    {
     "data": {
      "text/plain": [
       "[[0, 0, 0, 0, 0, 0, 0, 0, 0, 0, 0],\n",
       " [0, 2, 0, 0, 0, 0, 0, 0, 0, 0, 0],\n",
       " [0, 6, 10, 0, 0, 0, 0, 0, 0, 0, 0],\n",
       " [0, 7, 13, 15, 0, 0, 0, 0, 0, 0, 0],\n",
       " [0, 10, 16, 17, 20, 0, 0, 0, 0, 0, 0],\n",
       " [0, 18, 18, 25, 22, 22, 0, 0, 0, 0, 0],\n",
       " [0, 20, 23, 27, 32, 24, 25, 0, 0, 0, 0],\n",
       " [0, 26, 25, 31, 33, 40, 30, 29, 0, 0, 0],\n",
       " [0, 29, 28, 35, 35, 41, 49, 37, 33, 0, 0],\n",
       " [0, 34, 35, 42, 41, 50, 56, 56, 38, 38, 0],\n",
       " [0, 40, 41, 49, 44, 56, 57, 58, 61, 46, 45]]"
      ]
     },
     "execution_count": 5,
     "metadata": {},
     "output_type": "execute_result"
    }
   ],
   "source": [
    "dp"
   ]
  },
  {
   "cell_type": "code",
   "execution_count": 6,
   "metadata": {},
   "outputs": [
    {
     "data": {
      "text/plain": [
       "61"
      ]
     },
     "execution_count": 6,
     "metadata": {},
     "output_type": "execute_result"
    }
   ],
   "source": [
    "max=-1\n",
    "for i in range(1,N+1):\n",
    "    if dp[N][i]>max:\n",
    "        max=dp[N][i]\n",
    "max"
   ]
  },
  {
   "cell_type": "code",
   "execution_count": null,
   "metadata": {},
   "outputs": [],
   "source": []
  }
 ],
 "metadata": {
  "kernelspec": {
   "display_name": "Python 3",
   "language": "python",
   "name": "python3"
  },
  "language_info": {
   "codemirror_mode": {
    "name": "ipython",
    "version": 3
   },
   "file_extension": ".py",
   "mimetype": "text/x-python",
   "name": "python",
   "nbconvert_exporter": "python",
   "pygments_lexer": "ipython3",
   "version": "3.6.4"
  }
 },
 "nbformat": 4,
 "nbformat_minor": 2
}
