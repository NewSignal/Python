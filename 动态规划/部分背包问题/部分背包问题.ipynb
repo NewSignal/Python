{
 "cells": [
  {
   "cell_type": "markdown",
   "metadata": {},
   "source": [
    "# 部分背包问题\n",
    "有n种重量和价值分别为Wi和Vi的物品。从这些物品中挑选出总重量不超过w的物品，第i种物品最多选mi个，求所有挑选方案中价值总和的最大值。"
   ]
  },
  {
   "cell_type": "code",
   "execution_count": 1,
   "metadata": {},
   "outputs": [],
   "source": [
    "from numpy import *"
   ]
  },
  {
   "cell_type": "code",
   "execution_count": 2,
   "metadata": {},
   "outputs": [],
   "source": [
    "#控制物品的数量\n",
    "N=5\n",
    "W=5\n",
    "w=[random.randint(1,5) for i in range(N)]\n",
    "v=[random.randint(1,50) for i in range(N)]\n",
    "m=[random.randint(1,10) for i in range(N)]\n",
    "dp=[0 for i in range(N+1)]"
   ]
  },
  {
   "cell_type": "code",
   "execution_count": 3,
   "metadata": {},
   "outputs": [
    {
     "data": {
      "text/plain": [
       "[4, 3, 4, 2, 4]"
      ]
     },
     "execution_count": 3,
     "metadata": {},
     "output_type": "execute_result"
    }
   ],
   "source": [
    "w"
   ]
  },
  {
   "cell_type": "code",
   "execution_count": 4,
   "metadata": {},
   "outputs": [
    {
     "data": {
      "text/plain": [
       "[30, 31, 8, 19, 42]"
      ]
     },
     "execution_count": 4,
     "metadata": {},
     "output_type": "execute_result"
    }
   ],
   "source": [
    "v"
   ]
  },
  {
   "cell_type": "code",
   "execution_count": 5,
   "metadata": {},
   "outputs": [
    {
     "data": {
      "text/plain": [
       "[7, 7, 2, 8, 2]"
      ]
     },
     "execution_count": 5,
     "metadata": {},
     "output_type": "execute_result"
    }
   ],
   "source": [
    "m"
   ]
  },
  {
   "cell_type": "code",
   "execution_count": 6,
   "metadata": {},
   "outputs": [
    {
     "data": {
      "text/plain": [
       "[0, 0, 0, 0, 0, 0]"
      ]
     },
     "execution_count": 6,
     "metadata": {},
     "output_type": "execute_result"
    }
   ],
   "source": [
    "dp"
   ]
  },
  {
   "cell_type": "code",
   "execution_count": 7,
   "metadata": {
    "scrolled": true
   },
   "outputs": [
    {
     "name": "stdout",
     "output_type": "stream",
     "text": [
      "0\n",
      "************************\n",
      "mul= 1\n",
      "dp[ 5 ]=max(dp[ 5 ],dp[ 5 - 4 * 1 ]+v[ 0 ]* 1\n",
      "dp[ 4 ]=max(dp[ 4 ],dp[ 4 - 4 * 1 ]+v[ 0 ]* 1\n",
      "[0, 0, 0, 0, 30, 30]\n",
      "mul= 2\n",
      "[0, 0, 0, 0, 30, 30]\n",
      "mul= 4\n",
      "[0, 0, 0, 0, 30, 30]\n",
      "1\n",
      "************************\n",
      "mul= 1\n",
      "dp[ 5 ]=max(dp[ 5 ],dp[ 5 - 3 * 1 ]+v[ 1 ]* 1\n",
      "dp[ 4 ]=max(dp[ 4 ],dp[ 4 - 3 * 1 ]+v[ 1 ]* 1\n",
      "dp[ 3 ]=max(dp[ 3 ],dp[ 3 - 3 * 1 ]+v[ 1 ]* 1\n",
      "[0, 0, 0, 31, 31, 31]\n",
      "mul= 2\n",
      "[0, 0, 0, 31, 31, 31]\n",
      "mul= 4\n",
      "[0, 0, 0, 31, 31, 31]\n",
      "2\n",
      "************************\n",
      "mul= 1\n",
      "dp[ 5 ]=max(dp[ 5 ],dp[ 5 - 4 * 1 ]+v[ 2 ]* 1\n",
      "dp[ 4 ]=max(dp[ 4 ],dp[ 4 - 4 * 1 ]+v[ 2 ]* 1\n",
      "[0, 0, 0, 31, 31, 31]\n",
      "mul= 1\n",
      "dp[ 5 ]=max(dp[ 5 ],dp[ 5 - 4 * 1 ]+v[ 2 ]* 1\n",
      "dp[ 4 ]=max(dp[ 4 ],dp[ 4 - 4 * 1 ]+v[ 2 ]* 1\n",
      "[0, 0, 0, 31, 31, 31]\n",
      "3\n",
      "************************\n",
      "mul= 1\n",
      "dp[ 5 ]=max(dp[ 5 ],dp[ 5 - 2 * 1 ]+v[ 3 ]* 1\n",
      "dp[ 4 ]=max(dp[ 4 ],dp[ 4 - 2 * 1 ]+v[ 3 ]* 1\n",
      "dp[ 3 ]=max(dp[ 3 ],dp[ 3 - 2 * 1 ]+v[ 3 ]* 1\n",
      "dp[ 2 ]=max(dp[ 2 ],dp[ 2 - 2 * 1 ]+v[ 3 ]* 1\n",
      "[0, 0, 19, 31, 31, 50]\n",
      "mul= 2\n",
      "dp[ 5 ]=max(dp[ 5 ],dp[ 5 - 2 * 2 ]+v[ 3 ]* 2\n",
      "dp[ 4 ]=max(dp[ 4 ],dp[ 4 - 2 * 2 ]+v[ 3 ]* 2\n",
      "[0, 0, 19, 31, 38, 50]\n",
      "mul= 4\n",
      "[0, 0, 19, 31, 38, 50]\n",
      "mul= 1\n",
      "dp[ 5 ]=max(dp[ 5 ],dp[ 5 - 2 * 1 ]+v[ 3 ]* 1\n",
      "dp[ 4 ]=max(dp[ 4 ],dp[ 4 - 2 * 1 ]+v[ 3 ]* 1\n",
      "dp[ 3 ]=max(dp[ 3 ],dp[ 3 - 2 * 1 ]+v[ 3 ]* 1\n",
      "dp[ 2 ]=max(dp[ 2 ],dp[ 2 - 2 * 1 ]+v[ 3 ]* 1\n",
      "[0, 0, 19, 31, 38, 50]\n",
      "4\n",
      "************************\n",
      "mul= 1\n",
      "dp[ 5 ]=max(dp[ 5 ],dp[ 5 - 4 * 1 ]+v[ 4 ]* 1\n",
      "dp[ 4 ]=max(dp[ 4 ],dp[ 4 - 4 * 1 ]+v[ 4 ]* 1\n",
      "[0, 0, 19, 31, 42, 50]\n",
      "mul= 1\n",
      "dp[ 5 ]=max(dp[ 5 ],dp[ 5 - 4 * 1 ]+v[ 4 ]* 1\n",
      "dp[ 4 ]=max(dp[ 4 ],dp[ 4 - 4 * 1 ]+v[ 4 ]* 1\n",
      "[0, 0, 19, 31, 42, 50]\n"
     ]
    }
   ],
   "source": [
    "for i in range(N):\n",
    "    num=m[i]\n",
    "    k=1\n",
    "    print(i)\n",
    "    print(\"************************\")\n",
    "    while num>0:\n",
    "        mul=min(k,num)\n",
    "        print(\"mul=\",mul)\n",
    "        for j in range(W,w[i]*mul-1,-1):\n",
    "            print(\"dp[\",j,\"]=max(dp[\",j,\"],dp[\",j,\"-\",w[i],\"*\",mul,\"]+v[\",i,\"]*\",mul)\n",
    "            dp[j]=max(dp[j],dp[j-w[i]*mul]+v[i]*mul)\n",
    "        print(dp)\n",
    "        num-=mul\n",
    "        k=k<<1"
   ]
  },
  {
   "cell_type": "code",
   "execution_count": 8,
   "metadata": {},
   "outputs": [
    {
     "data": {
      "text/plain": [
       "[0, 0, 19, 31, 42, 50]"
      ]
     },
     "execution_count": 8,
     "metadata": {},
     "output_type": "execute_result"
    }
   ],
   "source": [
    "dp"
   ]
  }
 ],
 "metadata": {
  "kernelspec": {
   "display_name": "Python 3",
   "language": "python",
   "name": "python3"
  },
  "language_info": {
   "codemirror_mode": {
    "name": "ipython",
    "version": 3
   },
   "file_extension": ".py",
   "mimetype": "text/x-python",
   "name": "python",
   "nbconvert_exporter": "python",
   "pygments_lexer": "ipython3",
   "version": "3.6.4"
  }
 },
 "nbformat": 4,
 "nbformat_minor": 2
}
