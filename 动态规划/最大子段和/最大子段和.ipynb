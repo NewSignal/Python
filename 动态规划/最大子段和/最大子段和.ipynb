{
 "cells": [
  {
   "cell_type": "markdown",
   "metadata": {},
   "source": [
    "# 问题描述\n",
    "给定n个整数组成的序列a1,a2,…,an，求该序列子段和的最大值。最大子段和不能是负数，当序列中均为负数时定义最大子段和为0。"
   ]
  },
  {
   "cell_type": "markdown",
   "metadata": {},
   "source": [
    "# 分析\n",
    "    将给定的序列a[1..n]分成长度相等的两段a[1..n/2]和a[n/2+1:n]，分别求出这两段的最大子段和。则该给定序列的最大子段和有三种情况：\n",
    "    和a[1…n/2]的最大子段和相同；\n",
    "    和a[n/2+1…n]的最大子段和相同；\n",
    "    最大子段和包含两部分。\n",
    "    前两种情形我们可以用递归方法求出，第三种情形可以分别求出两部分的最大子段和值再相加。序列的最大子段和即为这三种情形的最大值。"
   ]
  },
  {
   "cell_type": "code",
   "execution_count": 1,
   "metadata": {},
   "outputs": [],
   "source": [
    "from numpy import *"
   ]
  },
  {
   "cell_type": "code",
   "execution_count": 2,
   "metadata": {},
   "outputs": [
    {
     "name": "stdout",
     "output_type": "stream",
     "text": [
      "20\n"
     ]
    }
   ],
   "source": [
    "def maxsub(a,n):\n",
    "    s=0\n",
    "    b=0\n",
    "    for i in range(n+1):\n",
    "        if b>0:\n",
    "            b+=a[i]\n",
    "        else:\n",
    "            b=a[i]\n",
    "        if b>s:\n",
    "            s=b\n",
    "    return s\n",
    "a=[-2,11,-4,13,-5,-2]\n",
    "print(maxsub(a,5))"
   ]
  },
  {
   "cell_type": "markdown",
   "metadata": {},
   "source": [
    "# POJ2593\n",
    "求两个不相交子段加起来的最大值。将数组划分为两部分，正向遍历一次逆向遍历一次加起来\n",
    "$S=Max_{1\\leq i \\leq j < p \\leq q \\leq N}\\{ \\Sigma_{t=i}^{j}a_{t}+\\Sigma_{t=p}^{q}a_{t}$"
   ]
  },
  {
   "cell_type": "code",
   "execution_count": 3,
   "metadata": {},
   "outputs": [],
   "source": [
    "INF=-float(\"INF\")\n",
    "N=10"
   ]
  },
  {
   "cell_type": "code",
   "execution_count": 4,
   "metadata": {},
   "outputs": [
    {
     "data": {
      "text/plain": [
       "[9, -7, 7, -2, 5, 2, -8, -3, -14, -14, -2]"
      ]
     },
     "execution_count": 4,
     "metadata": {},
     "output_type": "execute_result"
    }
   ],
   "source": [
    "a=[random.randint(-20,20) for i in range(N+1)]\n",
    "b=[0 for i in range(N+2)]\n",
    "m1=[0 for i in range(N+2)]\n",
    "m2=[0 for i in range(N+2)]\n",
    "m1[0]=m2[N+1]=INF\n",
    "a"
   ]
  },
  {
   "cell_type": "code",
   "execution_count": 5,
   "metadata": {},
   "outputs": [
    {
     "data": {
      "text/plain": [
       "[0, 0, 0, 0, 0, 0, 0, 0, 0, 0, 0, 0]"
      ]
     },
     "execution_count": 5,
     "metadata": {},
     "output_type": "execute_result"
    }
   ],
   "source": [
    "b"
   ]
  },
  {
   "cell_type": "code",
   "execution_count": 6,
   "metadata": {},
   "outputs": [
    {
     "data": {
      "text/plain": [
       "[-inf, 0, 0, 0, 0, 0, 0, 0, 0, 0, 0, 0]"
      ]
     },
     "execution_count": 6,
     "metadata": {},
     "output_type": "execute_result"
    }
   ],
   "source": [
    "m1"
   ]
  },
  {
   "cell_type": "code",
   "execution_count": 7,
   "metadata": {},
   "outputs": [
    {
     "data": {
      "text/plain": [
       "[0, 0, 0, 0, 0, 0, 0, 0, 0, 0, 0, -inf]"
      ]
     },
     "execution_count": 7,
     "metadata": {},
     "output_type": "execute_result"
    }
   ],
   "source": [
    "m2"
   ]
  },
  {
   "cell_type": "code",
   "execution_count": 8,
   "metadata": {},
   "outputs": [],
   "source": [
    "#正向遍历一遍\n",
    "for i in range(1,N+1):\n",
    "    if b[i-1]>=0:\n",
    "        b[i]=b[i-1]+a[i]\n",
    "    else:\n",
    "        b[i]=a[i]\n",
    "    if b[i]>m1[i-1]:\n",
    "        m1[i]=b[i]\n",
    "    else:\n",
    "        m1[i]=m1[i-1]"
   ]
  },
  {
   "cell_type": "code",
   "execution_count": 9,
   "metadata": {},
   "outputs": [
    {
     "data": {
      "text/plain": [
       "[0, -7, 7, 5, 10, 12, 4, 1, -13, -14, -2, 0]"
      ]
     },
     "execution_count": 9,
     "metadata": {},
     "output_type": "execute_result"
    }
   ],
   "source": [
    "b"
   ]
  },
  {
   "cell_type": "code",
   "execution_count": 10,
   "metadata": {},
   "outputs": [],
   "source": [
    "#逆向遍历一遍\n",
    "for i in range(N,0,-1):\n",
    "    if b[i+1]>=0:\n",
    "        b[i]=b[i+1]+a[i]\n",
    "    else:\n",
    "        b[i]=a[i]\n",
    "    if b[i]>m2[i+1]:\n",
    "        m2[i]=b[i]\n",
    "    else:\n",
    "        m2[i]=m2[i+1]"
   ]
  },
  {
   "cell_type": "code",
   "execution_count": 11,
   "metadata": {},
   "outputs": [
    {
     "data": {
      "text/plain": [
       "[0, 5, 12, 5, 7, 2, -8, -3, -14, -14, -2, 0]"
      ]
     },
     "execution_count": 11,
     "metadata": {},
     "output_type": "execute_result"
    }
   ],
   "source": [
    "b"
   ]
  },
  {
   "cell_type": "code",
   "execution_count": 12,
   "metadata": {},
   "outputs": [
    {
     "data": {
      "text/plain": [
       "[-inf, -7, 7, 7, 10, 12, 12, 12, 12, 12, 12, 0]"
      ]
     },
     "execution_count": 12,
     "metadata": {},
     "output_type": "execute_result"
    }
   ],
   "source": [
    "m1"
   ]
  },
  {
   "cell_type": "code",
   "execution_count": 13,
   "metadata": {},
   "outputs": [
    {
     "data": {
      "text/plain": [
       "[0, 12, 12, 7, 7, 2, -2, -2, -2, -2, -2, -inf]"
      ]
     },
     "execution_count": 13,
     "metadata": {},
     "output_type": "execute_result"
    }
   ],
   "source": [
    "m2"
   ]
  },
  {
   "cell_type": "code",
   "execution_count": 14,
   "metadata": {},
   "outputs": [],
   "source": [
    "maxsum=INF\n",
    "for i in range(1,N):\n",
    "    if m1[i]+m2[i+1]>maxsum:\n",
    "        maxsum=m1[i]+m2[i+1]"
   ]
  },
  {
   "cell_type": "code",
   "execution_count": 15,
   "metadata": {
    "scrolled": true
   },
   "outputs": [
    {
     "name": "stdout",
     "output_type": "stream",
     "text": [
      "14\n"
     ]
    }
   ],
   "source": [
    "print(maxsum)"
   ]
  },
  {
   "cell_type": "markdown",
   "metadata": {},
   "source": [
    "# POJ1050\n",
    "求给定矩阵的最大子矩阵和。找出所有的连续行，然后计算每列从第i行到第j行的和，之后对这n个列的和进行一维最大子段和的计算，并找出最大的值。"
   ]
  },
  {
   "cell_type": "code",
   "execution_count": 16,
   "metadata": {},
   "outputs": [],
   "source": [
    "from numpy import *"
   ]
  },
  {
   "cell_type": "code",
   "execution_count": 23,
   "metadata": {},
   "outputs": [
    {
     "data": {
      "text/plain": [
       "[[-12, -5, 0], [-14, 1, -16], [-9, 15, -16]]"
      ]
     },
     "execution_count": 23,
     "metadata": {},
     "output_type": "execute_result"
    }
   ],
   "source": [
    "N=10\n",
    "a=[]\n",
    "s_sum=0\n",
    "m_max=0\n",
    "colsum=[([0]*(N+1)) for i in range(N)]\n",
    "for i in range(N):\n",
    "    tem_a=[]\n",
    "    for j in range(N):\n",
    "        tem_a.append(random.randint(-20,20))\n",
    "    a.append(tem_a)\n",
    "a"
   ]
  },
  {
   "cell_type": "code",
   "execution_count": 26,
   "metadata": {},
   "outputs": [
    {
     "data": {
      "text/plain": [
       "[[0, -12, -17, -17], [0, -14, -13, -29], [0, -9, 6, -10]]"
      ]
     },
     "execution_count": 26,
     "metadata": {},
     "output_type": "execute_result"
    }
   ],
   "source": [
    "for i in range(N):\n",
    "    for j in range(N):\n",
    "        colsum[i][j+1]=colsum[i][j]+a[i][j]\n",
    "colsum"
   ]
  },
  {
   "cell_type": "code",
   "execution_count": 27,
   "metadata": {},
   "outputs": [
    {
     "name": "stdout",
     "output_type": "stream",
     "text": [
      "-12\n",
      "-14\n",
      "-9\n",
      "-17\n",
      "-13\n",
      "6\n",
      "-17\n",
      "-29\n",
      "-10\n",
      "-5\n",
      "1\n",
      "16\n",
      "-5\n",
      "-15\n",
      "-1\n",
      "0\n",
      "-16\n",
      "-16\n"
     ]
    },
    {
     "data": {
      "text/plain": [
       "16"
      ]
     },
     "execution_count": 27,
     "metadata": {},
     "output_type": "execute_result"
    }
   ],
   "source": [
    "for i in range(N+1):\n",
    "    for j in range(i+1,N+1):\n",
    "        s_sum=0\n",
    "        for k in range(N):\n",
    "            if s_sum>0:\n",
    "                s_sum+=colsum[k][j]-colsum[k][i]\n",
    "            else:\n",
    "                s_sum=colsum[k][j]-colsum[k][i]\n",
    "            print(s_sum)\n",
    "            if s_sum>m_max:\n",
    "                m_max=s_sum\n",
    "m_max"
   ]
  },
  {
   "cell_type": "code",
   "execution_count": null,
   "metadata": {},
   "outputs": [],
   "source": []
  }
 ],
 "metadata": {
  "kernelspec": {
   "display_name": "Python 3",
   "language": "python",
   "name": "python3"
  },
  "language_info": {
   "codemirror_mode": {
    "name": "ipython",
    "version": 3
   },
   "file_extension": ".py",
   "mimetype": "text/x-python",
   "name": "python",
   "nbconvert_exporter": "python",
   "pygments_lexer": "ipython3",
   "version": "3.6.4"
  }
 },
 "nbformat": 4,
 "nbformat_minor": 2
}
