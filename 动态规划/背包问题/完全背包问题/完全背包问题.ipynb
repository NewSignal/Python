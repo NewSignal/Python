{
 "cells": [
  {
   "cell_type": "markdown",
   "metadata": {},
   "source": [
    "# 完全背包问题\n",
    "有n种重量和价值分别为Wi和Vi的物品。从这些物品中挑选出总重量不超过w的物品，每种物品都可以挑选多件，求所有挑选方案中价值总和的最大值。"
   ]
  },
  {
   "cell_type": "code",
   "execution_count": 1,
   "metadata": {},
   "outputs": [],
   "source": [
    "from numpy import *"
   ]
  },
  {
   "cell_type": "code",
   "execution_count": 2,
   "metadata": {},
   "outputs": [],
   "source": [
    "#n种物品\n",
    "n=10\n",
    "#挑选的质量不超过w\n",
    "w=10\n",
    "#存放商品的质量\n",
    "W=[random.randint(1,10) for i in range(n)]\n",
    "#存放商品的价值\n",
    "V=[random.randint(1,20)  for i in range(n)]\n",
    "#dp[n][w]从前n种物品中挑选总质量不超过w的物品时所用的挑选方案价值总和的最大值。\n",
    "dp=[([0]*(w+1)) for i in range(n+1)]"
   ]
  },
  {
   "cell_type": "code",
   "execution_count": 3,
   "metadata": {},
   "outputs": [
    {
     "data": {
      "text/plain": [
       "[4, 6, 5, 2, 2, 7, 6, 5, 9, 2]"
      ]
     },
     "execution_count": 3,
     "metadata": {},
     "output_type": "execute_result"
    }
   ],
   "source": [
    "W"
   ]
  },
  {
   "cell_type": "code",
   "execution_count": 4,
   "metadata": {
    "scrolled": true
   },
   "outputs": [
    {
     "data": {
      "text/plain": [
       "[6, 5, 12, 5, 5, 12, 10, 14, 17, 17]"
      ]
     },
     "execution_count": 4,
     "metadata": {},
     "output_type": "execute_result"
    }
   ],
   "source": [
    "V"
   ]
  },
  {
   "cell_type": "code",
   "execution_count": 5,
   "metadata": {},
   "outputs": [],
   "source": [
    "def solve():\n",
    "    for i in range(n):\n",
    "        for j in range(w+1):\n",
    "            if j<W[i]:\n",
    "                print(j,\"<\",W[i],i+1,j,\"=\",i,j)\n",
    "                dp[i+1][j]=dp[i][j]\n",
    "            else:\n",
    "                print(i+1,j,\"max\",i,j,\",\",i,j-W[i],\"+\",i)\n",
    "                dp[i+1][j]=max(dp[i][j],dp[i+1][j-W[i]]+V[i])"
   ]
  },
  {
   "cell_type": "code",
   "execution_count": 6,
   "metadata": {},
   "outputs": [
    {
     "name": "stdout",
     "output_type": "stream",
     "text": [
      "0 < 4 1 0 = 0 0\n",
      "1 < 4 1 1 = 0 1\n",
      "2 < 4 1 2 = 0 2\n",
      "3 < 4 1 3 = 0 3\n",
      "1 4 max 0 4 , 0 0 + 0\n",
      "1 5 max 0 5 , 0 1 + 0\n",
      "1 6 max 0 6 , 0 2 + 0\n",
      "1 7 max 0 7 , 0 3 + 0\n",
      "1 8 max 0 8 , 0 4 + 0\n",
      "1 9 max 0 9 , 0 5 + 0\n",
      "1 10 max 0 10 , 0 6 + 0\n",
      "0 < 6 2 0 = 1 0\n",
      "1 < 6 2 1 = 1 1\n",
      "2 < 6 2 2 = 1 2\n",
      "3 < 6 2 3 = 1 3\n",
      "4 < 6 2 4 = 1 4\n",
      "5 < 6 2 5 = 1 5\n",
      "2 6 max 1 6 , 1 0 + 1\n",
      "2 7 max 1 7 , 1 1 + 1\n",
      "2 8 max 1 8 , 1 2 + 1\n",
      "2 9 max 1 9 , 1 3 + 1\n",
      "2 10 max 1 10 , 1 4 + 1\n",
      "0 < 5 3 0 = 2 0\n",
      "1 < 5 3 1 = 2 1\n",
      "2 < 5 3 2 = 2 2\n",
      "3 < 5 3 3 = 2 3\n",
      "4 < 5 3 4 = 2 4\n",
      "3 5 max 2 5 , 2 0 + 2\n",
      "3 6 max 2 6 , 2 1 + 2\n",
      "3 7 max 2 7 , 2 2 + 2\n",
      "3 8 max 2 8 , 2 3 + 2\n",
      "3 9 max 2 9 , 2 4 + 2\n",
      "3 10 max 2 10 , 2 5 + 2\n",
      "0 < 2 4 0 = 3 0\n",
      "1 < 2 4 1 = 3 1\n",
      "4 2 max 3 2 , 3 0 + 3\n",
      "4 3 max 3 3 , 3 1 + 3\n",
      "4 4 max 3 4 , 3 2 + 3\n",
      "4 5 max 3 5 , 3 3 + 3\n",
      "4 6 max 3 6 , 3 4 + 3\n",
      "4 7 max 3 7 , 3 5 + 3\n",
      "4 8 max 3 8 , 3 6 + 3\n",
      "4 9 max 3 9 , 3 7 + 3\n",
      "4 10 max 3 10 , 3 8 + 3\n",
      "0 < 2 5 0 = 4 0\n",
      "1 < 2 5 1 = 4 1\n",
      "5 2 max 4 2 , 4 0 + 4\n",
      "5 3 max 4 3 , 4 1 + 4\n",
      "5 4 max 4 4 , 4 2 + 4\n",
      "5 5 max 4 5 , 4 3 + 4\n",
      "5 6 max 4 6 , 4 4 + 4\n",
      "5 7 max 4 7 , 4 5 + 4\n",
      "5 8 max 4 8 , 4 6 + 4\n",
      "5 9 max 4 9 , 4 7 + 4\n",
      "5 10 max 4 10 , 4 8 + 4\n",
      "0 < 7 6 0 = 5 0\n",
      "1 < 7 6 1 = 5 1\n",
      "2 < 7 6 2 = 5 2\n",
      "3 < 7 6 3 = 5 3\n",
      "4 < 7 6 4 = 5 4\n",
      "5 < 7 6 5 = 5 5\n",
      "6 < 7 6 6 = 5 6\n",
      "6 7 max 5 7 , 5 0 + 5\n",
      "6 8 max 5 8 , 5 1 + 5\n",
      "6 9 max 5 9 , 5 2 + 5\n",
      "6 10 max 5 10 , 5 3 + 5\n",
      "0 < 6 7 0 = 6 0\n",
      "1 < 6 7 1 = 6 1\n",
      "2 < 6 7 2 = 6 2\n",
      "3 < 6 7 3 = 6 3\n",
      "4 < 6 7 4 = 6 4\n",
      "5 < 6 7 5 = 6 5\n",
      "7 6 max 6 6 , 6 0 + 6\n",
      "7 7 max 6 7 , 6 1 + 6\n",
      "7 8 max 6 8 , 6 2 + 6\n",
      "7 9 max 6 9 , 6 3 + 6\n",
      "7 10 max 6 10 , 6 4 + 6\n",
      "0 < 5 8 0 = 7 0\n",
      "1 < 5 8 1 = 7 1\n",
      "2 < 5 8 2 = 7 2\n",
      "3 < 5 8 3 = 7 3\n",
      "4 < 5 8 4 = 7 4\n",
      "8 5 max 7 5 , 7 0 + 7\n",
      "8 6 max 7 6 , 7 1 + 7\n",
      "8 7 max 7 7 , 7 2 + 7\n",
      "8 8 max 7 8 , 7 3 + 7\n",
      "8 9 max 7 9 , 7 4 + 7\n",
      "8 10 max 7 10 , 7 5 + 7\n",
      "0 < 9 9 0 = 8 0\n",
      "1 < 9 9 1 = 8 1\n",
      "2 < 9 9 2 = 8 2\n",
      "3 < 9 9 3 = 8 3\n",
      "4 < 9 9 4 = 8 4\n",
      "5 < 9 9 5 = 8 5\n",
      "6 < 9 9 6 = 8 6\n",
      "7 < 9 9 7 = 8 7\n",
      "8 < 9 9 8 = 8 8\n",
      "9 9 max 8 9 , 8 0 + 8\n",
      "9 10 max 8 10 , 8 1 + 8\n",
      "0 < 2 10 0 = 9 0\n",
      "1 < 2 10 1 = 9 1\n",
      "10 2 max 9 2 , 9 0 + 9\n",
      "10 3 max 9 3 , 9 1 + 9\n",
      "10 4 max 9 4 , 9 2 + 9\n",
      "10 5 max 9 5 , 9 3 + 9\n",
      "10 6 max 9 6 , 9 4 + 9\n",
      "10 7 max 9 7 , 9 5 + 9\n",
      "10 8 max 9 8 , 9 6 + 9\n",
      "10 9 max 9 9 , 9 7 + 9\n",
      "10 10 max 9 10 , 9 8 + 9\n"
     ]
    }
   ],
   "source": [
    "solve()"
   ]
  },
  {
   "cell_type": "code",
   "execution_count": 7,
   "metadata": {},
   "outputs": [
    {
     "name": "stdout",
     "output_type": "stream",
     "text": [
      "[0, 0, 0, 0, 0, 0, 0, 0, 0, 0, 0]\n",
      "[0, 0, 0, 0, 6, 6, 6, 6, 12, 12, 12]\n",
      "[0, 0, 0, 0, 6, 6, 6, 6, 12, 12, 12]\n",
      "[0, 0, 0, 0, 6, 12, 12, 12, 12, 18, 24]\n",
      "[0, 0, 5, 5, 10, 12, 15, 17, 20, 22, 25]\n",
      "[0, 0, 5, 5, 10, 12, 15, 17, 20, 22, 25]\n",
      "[0, 0, 5, 5, 10, 12, 15, 17, 20, 22, 25]\n",
      "[0, 0, 5, 5, 10, 12, 15, 17, 20, 22, 25]\n",
      "[0, 0, 5, 5, 10, 14, 15, 19, 20, 24, 28]\n",
      "[0, 0, 5, 5, 10, 14, 15, 19, 20, 24, 28]\n",
      "[0, 0, 17, 17, 34, 34, 51, 51, 68, 68, 85]\n"
     ]
    }
   ],
   "source": [
    "for i in dp:\n",
    "    print(i)"
   ]
  },
  {
   "cell_type": "code",
   "execution_count": 8,
   "metadata": {},
   "outputs": [
    {
     "data": {
      "text/plain": [
       "85"
      ]
     },
     "execution_count": 8,
     "metadata": {},
     "output_type": "execute_result"
    }
   ],
   "source": [
    "dp[n][w]"
   ]
  }
 ],
 "metadata": {
  "kernelspec": {
   "display_name": "Python 3",
   "language": "python",
   "name": "python3"
  },
  "language_info": {
   "codemirror_mode": {
    "name": "ipython",
    "version": 3
   },
   "file_extension": ".py",
   "mimetype": "text/x-python",
   "name": "python",
   "nbconvert_exporter": "python",
   "pygments_lexer": "ipython3",
   "version": "3.6.4"
  }
 },
 "nbformat": 4,
 "nbformat_minor": 2
}
